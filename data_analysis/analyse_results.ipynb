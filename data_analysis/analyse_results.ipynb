{
 "cells": [
  {
   "cell_type": "markdown",
   "metadata": {},
   "source": [
    "# Light Field VR Data Analysis\n"
   ]
  },
  {
   "cell_type": "markdown",
   "metadata": {},
   "source": [
    "## Read the raw data from .csv files"
   ]
  },
  {
   "cell_type": "code",
   "execution_count": 1,
   "metadata": {
    "scrolled": false
   },
   "outputs": [
    {
     "name": "stdout",
     "output_type": "stream",
     "text": [
      "Number of subjects: 17\n"
     ]
    }
   ],
   "source": [
    "import pandas as pd\n",
    "import os as os\n",
    "\n",
    "# Get subject list from file names\n",
    "data_dir='rawdata/'\n",
    "files = os.listdir(data_dir)\n",
    "subjects = [ f.split('_')[0] for f in files if 'votes.csv' in f ]\n",
    "\n",
    "# Load the score data by subject\n",
    "# Read votes from csv-files to Pandas DataFrames and concatenate\n",
    "def read_votes(x):\n",
    "    df = pd.read_csv(data_dir + x + '_votes.csv')\n",
    "    df['Subject'] = x\n",
    "    return df\n",
    "df = pd.concat([ read_votes(s) for s in subjects ]).reset_index(drop=True)\n",
    "\n",
    "# Parce stimulus names to Image, Codec and Bitrate\n",
    "name_parsed = pd.DataFrame([ [s[:3],s[3:5],s[5:]] for s in df['Stimulus'] ],columns=['Image','Codec','Bitrate'])\n",
    "df = df.merge(name_parsed,left_index=True, right_index=True)\n",
    "\n",
    "dfExpData = df[['Subject','Stimulus','Image','Codec','Bitrate','Vote']]\n",
    "\n",
    "dfExpData.to_csv('experiment_data.csv')\n",
    "\n",
    "print(\"Number of subjects:\",len(subjects))\n",
    "#dfExpData.head() # Preview data table"
   ]
  },
  {
   "cell_type": "markdown",
   "metadata": {},
   "source": [
    "## Perform outlier detection\n",
    "\n",
    "    Outliers detections method is described in\n",
    "    ITU-R BT.500-13 (2012): Section 2.3.1, Page 35\n"
   ]
  },
  {
   "cell_type": "code",
   "execution_count": 2,
   "metadata": {
    "scrolled": false
   },
   "outputs": [
    {
     "name": "stdout",
     "output_type": "stream",
     "text": [
      "Outliers detected: 0\n",
      "[]\n"
     ]
    }
   ],
   "source": [
    "import numpy as np\n",
    "import scipy.stats as ss\n",
    "from functools import reduce\n",
    "\n",
    "# Outlier detection\n",
    "\n",
    "df = dfExpData # Get a copy of the data\n",
    "\n",
    "# Calculate moments: mean, standard deviation, kurtosis per stimulus\n",
    "ms = pd.DataFrame([(stimulus, votes.mean(), votes.std(),votes.kurtosis()) \n",
    "                   for stimulus, votes in df.groupby('Stimulus')['Vote']\n",
    "                  ],\n",
    "                  columns = ['Stimulus','Mean','Std','Kurt'])\n",
    "\n",
    "pqs = list() # List if P[i] and Q[i]\n",
    "for sub in subjects: # Iterate over subjects\n",
    "    p,q = 0,0\n",
    "    for _,m in ms.iterrows(): # Iterate over subject's votes\n",
    "        v = int( df[(df.Subject == sub)&(df.Stimulus == m.Stimulus)]['Vote'] )\n",
    "        stdcoeff = np.sqrt(20) if m.Kurt < 2 or m.Kurt > 4 else 2 # Consider normal distribution if Kurt is in [2..4]\n",
    "        if v > m.Mean + m.Std*stdcoeff :  # If the vote is higher then interval\n",
    "            p = p + 1                     # increment P\n",
    "        if v < m.Mean - m.Std*stdcoeff :  # If the vote is lower then interval\n",
    "            q = q + 1                     # increment Q\n",
    "        #print(sub,m.Stimulus,np.round(m.Kurt,1),v,np.round(m.Mean-m.Std*stdcoeff,1),np.round(m.Mean+m.Std*stdcoeff,1),p,q)\n",
    "    pqs.append((sub, p, q))\n",
    "pqs = pd.DataFrame(pqs, columns=['Subject','P','Q'])\n",
    "\n",
    "N = len(set(df['Stimulus'])) # Number of stimuli (aka number of votes per subject)\n",
    "\n",
    "# If the number of outlying votes for a subject is > 5%\n",
    "# and the difference between number of votes lying upper (P) and lower (Q)\n",
    "# the specified interval is < 30% (i.e. outlying votes are rather balanced)\n",
    "# consider the subject as an outlier\n",
    "pqs['isOutlier'] = [(((s.P+s.Q)/N) > 0.05) and (abs((s.P-s.Q)/(s.P+s.Q)) < 0.3) for _,s in pqs.iterrows()]\n",
    "\n",
    "# For DEBUG\n",
    "#pqs.loc[2,'isOutlier'] = True\n",
    "#pqs.loc[11,'isOutlier'] = True\n",
    "#pqs.loc[13,'isOutlier'] = True\n",
    "\n",
    "outliers = list(pqs[pqs.isOutlier]['Subject'])\n",
    "\n",
    "print('Outliers detected:',len(outliers))\n",
    "print(outliers)\n",
    "\n",
    "# Remove outliers\n",
    "if len(outliers):\n",
    "    dfExpDataScreened = df[ [reduce((lambda x,y: x and y),z) for z in zip(*[df.Subject!=o for o in outliers])] ]\n",
    "else:\n",
    "    dfExpDataScreened = df\n",
    "dfExpDataScreened.to_csv('experiment_data_screened.csv')\n"
   ]
  },
  {
   "cell_type": "markdown",
   "metadata": {},
   "source": [
    "## Plot mean opinion scores (MOS) with 95% confidence intervals (CI)"
   ]
  },
  {
   "cell_type": "code",
   "execution_count": 3,
   "metadata": {},
   "outputs": [
    {
     "data": {
      "image/png": "[encoded data removed]",
      "text/plain": [
       "<matplotlib.figure.Figure at 0x1134d0198>"
      ]
     },
     "metadata": {},
     "output_type": "display_data"
    }
   ],
   "source": [
    "import matplotlib.pyplot as plt\n",
    "import scipy.stats as ss\n",
    "\n",
    "# Get a copy of the screened data\n",
    "df = dfExpDataScreened\n",
    "\n",
    "images = list(set(df.Image)); images.sort()\n",
    "bitrates = list(set(df.Bitrate)); bitrates.sort()\n",
    "\n",
    "# Calculate 95% confidence interval assuming Student's T distribution\n",
    "def get_ci(xs):\n",
    "    return ss.t.interval(0.95, len(xs)-1, loc=np.mean(xs),\n",
    "                         scale=ss.sem(xs)) if ss.sem(xs) > 0 else (np.mean(xs),np.mean(xs))\n",
    "\n",
    "# Draw a MOS (sub)plot for one LF image\n",
    "def plot_mos_per_image(im, c = 'P1', n = 0):\n",
    "    # Retrive data for an image 'im' and codec 'c' and group by bitrate\n",
    "    xs = list(df[(df['Image'] == im)&(df['Codec'] == c)][['Bitrate','Vote','Codec']].groupby(['Bitrate']))\n",
    "    # Calculate means for a stimulus data grouped by bitrate earlier\n",
    "    means = list(map(lambda x: np.mean(x[1]['Vote']), xs))\n",
    "    #errors = list(map(lambda x: get_ci(x[1]['Vote']), xs)) # Assuming errors\n",
    "    #errors = list(map(lambda x: (x[1]-x[0])/2, errors))    # .... are symmetric\n",
    "    errors = list(map(lambda x: abs(get_ci(x[1]['Vote'])-np.mean(x[1]['Vote'])), xs)) # General assymetric case\n",
    "    errors = list(zip(*errors)) # Re-format the list to feed to matplotlib..errorbar\n",
    "    x = list(range(len(bitrates),0,-1)) # Reverse the order because R1 is the highest bitrate\n",
    "    plt.xticks(x, bitrates) # X-axis tick labels\n",
    "    if n > 0 : plt.subplot(1, 5, n)\n",
    "    plt.errorbar(x, means, yerr=errors, capsize=3)\n",
    "\n",
    "# Perform drawing of the plots for MOS with CI\n",
    "plt.subplots(1,5,figsize=(15,3))\n",
    "for i,n in zip(images,range(1,6)):\n",
    "    plot_mos_per_image(i, 'P1', n)\n",
    "    plot_mos_per_image(i, 'P2', n)\n",
    "    plt.grid(); plt.title(i)\n",
    "    plt.ylim((0.5,5.5)); plt.xlim((0.5,4.5))\n",
    "    plt.xlabel('Bitrate')\n",
    "    if n==1 :\n",
    "        plt.ylabel('MOS')\n",
    "        plt.legend(['P1','P2'])\n",
    "\n",
    "plt.tight_layout()\n",
    "plt.savefig(\"Mos.pdf\")\n",
    "plt.savefig(\"Mos.png\")\n",
    "\n",
    "plt.show()"
   ]
  },
  {
   "cell_type": "code",
   "execution_count": null,
   "metadata": {
    "collapsed": true
   },
   "outputs": [],
   "source": []
  },
  {
   "cell_type": "markdown",
   "metadata": {},
   "source": [
    "## Scripts for interaction analysis to be added..."
   ]
  }
 ],
 "metadata": {
  "kernelspec": {
   "display_name": "Python 3",
   "language": "python",
   "name": "python3"
  },
  "language_info": {
   "codemirror_mode": {
    "name": "ipython",
    "version": 3
   },
   "file_extension": ".py",
   "mimetype": "text/x-python",
   "name": "python",
   "nbconvert_exporter": "python",
   "pygments_lexer": "ipython3",
   "version": "3.6.2"
  }
 },
 "nbformat": 4,
 "nbformat_minor": 2
}
